{
  "nbformat": 4,
  "nbformat_minor": 0,
  "metadata": {
    "colab": {
      "provenance": [],
      "machine_shape": "hm",
      "gpuType": "A100"
    },
    "kernelspec": {
      "name": "python3",
      "display_name": "Python 3"
    },
    "language_info": {
      "name": "python"
    },
    "accelerator": "GPU"
  },
  "cells": [
    {
      "cell_type": "code",
      "execution_count": null,
      "metadata": {
        "colab": {
          "base_uri": "https://localhost:8080/"
        },
        "id": "AIYd7QbzdcPA",
        "outputId": "f8cd2f66-1396-4fee-9521-f99a6aa2eb7f"
      },
      "outputs": [
        {
          "output_type": "stream",
          "name": "stdout",
          "text": [
            "Drive already mounted at /content/drive/; to attempt to forcibly remount, call drive.mount(\"/content/drive/\", force_remount=True).\n",
            "/content/drive/MyDrive/Colab Notebooks/HW4&Final/FINAL\n"
          ]
        }
      ],
      "source": [
        "from google.colab import drive\n",
        "drive.mount('/content/drive/')\n",
        "import os\n",
        "path=\"/content/drive/MyDrive/Colab Notebooks/HW4&Final/FINAL\"\n",
        "os.chdir(path)\n",
        "os.listdir(path)\n",
        "import os\n",
        "print(os.getcwd())"
      ]
    },
    {
      "cell_type": "code",
      "source": [
        "!pip install accelerate\n",
        "!pip install transformers\n"
      ],
      "metadata": {
        "colab": {
          "base_uri": "https://localhost:8080/"
        },
        "id": "AC9tGDj9egAn",
        "outputId": "09db7f33-0b82-45b1-96f3-fb22df349929"
      },
      "execution_count": null,
      "outputs": [
        {
          "output_type": "stream",
          "name": "stdout",
          "text": [
            "Requirement already satisfied: accelerate in /usr/local/lib/python3.10/dist-packages (0.30.1)\n",
            "Requirement already satisfied: numpy>=1.17 in /usr/local/lib/python3.10/dist-packages (from accelerate) (1.25.2)\n",
            "Requirement already satisfied: packaging>=20.0 in /usr/local/lib/python3.10/dist-packages (from accelerate) (24.0)\n",
            "Requirement already satisfied: psutil in /usr/local/lib/python3.10/dist-packages (from accelerate) (5.9.5)\n",
            "Requirement already satisfied: pyyaml in /usr/local/lib/python3.10/dist-packages (from accelerate) (6.0.1)\n",
            "Requirement already satisfied: torch>=1.10.0 in /usr/local/lib/python3.10/dist-packages (from accelerate) (2.3.0+cu121)\n",
            "Requirement already satisfied: huggingface-hub in /usr/local/lib/python3.10/dist-packages (from accelerate) (0.23.2)\n",
            "Requirement already satisfied: safetensors>=0.3.1 in /usr/local/lib/python3.10/dist-packages (from accelerate) (0.4.3)\n",
            "Requirement already satisfied: filelock in /usr/local/lib/python3.10/dist-packages (from torch>=1.10.0->accelerate) (3.14.0)\n",
            "Requirement already satisfied: typing-extensions>=4.8.0 in /usr/local/lib/python3.10/dist-packages (from torch>=1.10.0->accelerate) (4.12.0)\n",
            "Requirement already satisfied: sympy in /usr/local/lib/python3.10/dist-packages (from torch>=1.10.0->accelerate) (1.12.1)\n",
            "Requirement already satisfied: networkx in /usr/local/lib/python3.10/dist-packages (from torch>=1.10.0->accelerate) (3.3)\n",
            "Requirement already satisfied: jinja2 in /usr/local/lib/python3.10/dist-packages (from torch>=1.10.0->accelerate) (3.1.4)\n",
            "Requirement already satisfied: fsspec in /usr/local/lib/python3.10/dist-packages (from torch>=1.10.0->accelerate) (2023.6.0)\n",
            "Requirement already satisfied: nvidia-cuda-nvrtc-cu12==12.1.105 in /usr/local/lib/python3.10/dist-packages (from torch>=1.10.0->accelerate) (12.1.105)\n",
            "Requirement already satisfied: nvidia-cuda-runtime-cu12==12.1.105 in /usr/local/lib/python3.10/dist-packages (from torch>=1.10.0->accelerate) (12.1.105)\n",
            "Requirement already satisfied: nvidia-cuda-cupti-cu12==12.1.105 in /usr/local/lib/python3.10/dist-packages (from torch>=1.10.0->accelerate) (12.1.105)\n",
            "Requirement already satisfied: nvidia-cudnn-cu12==8.9.2.26 in /usr/local/lib/python3.10/dist-packages (from torch>=1.10.0->accelerate) (8.9.2.26)\n",
            "Requirement already satisfied: nvidia-cublas-cu12==12.1.3.1 in /usr/local/lib/python3.10/dist-packages (from torch>=1.10.0->accelerate) (12.1.3.1)\n",
            "Requirement already satisfied: nvidia-cufft-cu12==11.0.2.54 in /usr/local/lib/python3.10/dist-packages (from torch>=1.10.0->accelerate) (11.0.2.54)\n",
            "Requirement already satisfied: nvidia-curand-cu12==10.3.2.106 in /usr/local/lib/python3.10/dist-packages (from torch>=1.10.0->accelerate) (10.3.2.106)\n",
            "Requirement already satisfied: nvidia-cusolver-cu12==11.4.5.107 in /usr/local/lib/python3.10/dist-packages (from torch>=1.10.0->accelerate) (11.4.5.107)\n",
            "Requirement already satisfied: nvidia-cusparse-cu12==12.1.0.106 in /usr/local/lib/python3.10/dist-packages (from torch>=1.10.0->accelerate) (12.1.0.106)\n",
            "Requirement already satisfied: nvidia-nccl-cu12==2.20.5 in /usr/local/lib/python3.10/dist-packages (from torch>=1.10.0->accelerate) (2.20.5)\n",
            "Requirement already satisfied: nvidia-nvtx-cu12==12.1.105 in /usr/local/lib/python3.10/dist-packages (from torch>=1.10.0->accelerate) (12.1.105)\n",
            "Requirement already satisfied: triton==2.3.0 in /usr/local/lib/python3.10/dist-packages (from torch>=1.10.0->accelerate) (2.3.0)\n",
            "Requirement already satisfied: nvidia-nvjitlink-cu12 in /usr/local/lib/python3.10/dist-packages (from nvidia-cusolver-cu12==11.4.5.107->torch>=1.10.0->accelerate) (12.5.40)\n",
            "Requirement already satisfied: requests in /usr/local/lib/python3.10/dist-packages (from huggingface-hub->accelerate) (2.32.3)\n",
            "Requirement already satisfied: tqdm>=4.42.1 in /usr/local/lib/python3.10/dist-packages (from huggingface-hub->accelerate) (4.66.4)\n",
            "Requirement already satisfied: MarkupSafe>=2.0 in /usr/local/lib/python3.10/dist-packages (from jinja2->torch>=1.10.0->accelerate) (2.1.5)\n",
            "Requirement already satisfied: charset-normalizer<4,>=2 in /usr/local/lib/python3.10/dist-packages (from requests->huggingface-hub->accelerate) (3.3.2)\n",
            "Requirement already satisfied: idna<4,>=2.5 in /usr/local/lib/python3.10/dist-packages (from requests->huggingface-hub->accelerate) (3.7)\n",
            "Requirement already satisfied: urllib3<3,>=1.21.1 in /usr/local/lib/python3.10/dist-packages (from requests->huggingface-hub->accelerate) (2.0.7)\n",
            "Requirement already satisfied: certifi>=2017.4.17 in /usr/local/lib/python3.10/dist-packages (from requests->huggingface-hub->accelerate) (2024.2.2)\n",
            "Requirement already satisfied: mpmath<1.4.0,>=1.1.0 in /usr/local/lib/python3.10/dist-packages (from sympy->torch>=1.10.0->accelerate) (1.3.0)\n",
            "Requirement already satisfied: transformers in /usr/local/lib/python3.10/dist-packages (4.41.1)\n",
            "Requirement already satisfied: filelock in /usr/local/lib/python3.10/dist-packages (from transformers) (3.14.0)\n",
            "Requirement already satisfied: huggingface-hub<1.0,>=0.23.0 in /usr/local/lib/python3.10/dist-packages (from transformers) (0.23.2)\n",
            "Requirement already satisfied: numpy>=1.17 in /usr/local/lib/python3.10/dist-packages (from transformers) (1.25.2)\n",
            "Requirement already satisfied: packaging>=20.0 in /usr/local/lib/python3.10/dist-packages (from transformers) (24.0)\n",
            "Requirement already satisfied: pyyaml>=5.1 in /usr/local/lib/python3.10/dist-packages (from transformers) (6.0.1)\n",
            "Requirement already satisfied: regex!=2019.12.17 in /usr/local/lib/python3.10/dist-packages (from transformers) (2024.5.15)\n",
            "Requirement already satisfied: requests in /usr/local/lib/python3.10/dist-packages (from transformers) (2.32.3)\n",
            "Requirement already satisfied: tokenizers<0.20,>=0.19 in /usr/local/lib/python3.10/dist-packages (from transformers) (0.19.1)\n",
            "Requirement already satisfied: safetensors>=0.4.1 in /usr/local/lib/python3.10/dist-packages (from transformers) (0.4.3)\n",
            "Requirement already satisfied: tqdm>=4.27 in /usr/local/lib/python3.10/dist-packages (from transformers) (4.66.4)\n",
            "Requirement already satisfied: fsspec>=2023.5.0 in /usr/local/lib/python3.10/dist-packages (from huggingface-hub<1.0,>=0.23.0->transformers) (2023.6.0)\n",
            "Requirement already satisfied: typing-extensions>=3.7.4.3 in /usr/local/lib/python3.10/dist-packages (from huggingface-hub<1.0,>=0.23.0->transformers) (4.12.0)\n",
            "Requirement already satisfied: charset-normalizer<4,>=2 in /usr/local/lib/python3.10/dist-packages (from requests->transformers) (3.3.2)\n",
            "Requirement already satisfied: idna<4,>=2.5 in /usr/local/lib/python3.10/dist-packages (from requests->transformers) (3.7)\n",
            "Requirement already satisfied: urllib3<3,>=1.21.1 in /usr/local/lib/python3.10/dist-packages (from requests->transformers) (2.0.7)\n",
            "Requirement already satisfied: certifi>=2017.4.17 in /usr/local/lib/python3.10/dist-packages (from requests->transformers) (2024.2.2)\n"
          ]
        }
      ]
    },
    {
      "cell_type": "code",
      "source": [
        "!pip install datasets"
      ],
      "metadata": {
        "colab": {
          "base_uri": "https://localhost:8080/"
        },
        "id": "PeQdlp_iJuOc",
        "outputId": "ea95b8a6-a141-4606-f0d8-8846b6d25abb"
      },
      "execution_count": null,
      "outputs": [
        {
          "output_type": "stream",
          "name": "stdout",
          "text": [
            "Requirement already satisfied: datasets in /usr/local/lib/python3.10/dist-packages (2.19.2)\n",
            "Requirement already satisfied: filelock in /usr/local/lib/python3.10/dist-packages (from datasets) (3.14.0)\n",
            "Requirement already satisfied: numpy>=1.17 in /usr/local/lib/python3.10/dist-packages (from datasets) (1.25.2)\n",
            "Requirement already satisfied: pyarrow>=12.0.0 in /usr/local/lib/python3.10/dist-packages (from datasets) (14.0.2)\n",
            "Requirement already satisfied: pyarrow-hotfix in /usr/local/lib/python3.10/dist-packages (from datasets) (0.6)\n",
            "Requirement already satisfied: dill<0.3.9,>=0.3.0 in /usr/local/lib/python3.10/dist-packages (from datasets) (0.3.8)\n",
            "Requirement already satisfied: pandas in /usr/local/lib/python3.10/dist-packages (from datasets) (2.0.3)\n",
            "Requirement already satisfied: requests>=2.32.1 in /usr/local/lib/python3.10/dist-packages (from datasets) (2.32.3)\n",
            "Requirement already satisfied: tqdm>=4.62.1 in /usr/local/lib/python3.10/dist-packages (from datasets) (4.66.4)\n",
            "Requirement already satisfied: xxhash in /usr/local/lib/python3.10/dist-packages (from datasets) (3.4.1)\n",
            "Requirement already satisfied: multiprocess in /usr/local/lib/python3.10/dist-packages (from datasets) (0.70.16)\n",
            "Requirement already satisfied: fsspec[http]<=2024.3.1,>=2023.1.0 in /usr/local/lib/python3.10/dist-packages (from datasets) (2023.6.0)\n",
            "Requirement already satisfied: aiohttp in /usr/local/lib/python3.10/dist-packages (from datasets) (3.9.5)\n",
            "Requirement already satisfied: huggingface-hub>=0.21.2 in /usr/local/lib/python3.10/dist-packages (from datasets) (0.23.2)\n",
            "Requirement already satisfied: packaging in /usr/local/lib/python3.10/dist-packages (from datasets) (24.0)\n",
            "Requirement already satisfied: pyyaml>=5.1 in /usr/local/lib/python3.10/dist-packages (from datasets) (6.0.1)\n",
            "Requirement already satisfied: aiosignal>=1.1.2 in /usr/local/lib/python3.10/dist-packages (from aiohttp->datasets) (1.3.1)\n",
            "Requirement already satisfied: attrs>=17.3.0 in /usr/local/lib/python3.10/dist-packages (from aiohttp->datasets) (23.2.0)\n",
            "Requirement already satisfied: frozenlist>=1.1.1 in /usr/local/lib/python3.10/dist-packages (from aiohttp->datasets) (1.4.1)\n",
            "Requirement already satisfied: multidict<7.0,>=4.5 in /usr/local/lib/python3.10/dist-packages (from aiohttp->datasets) (6.0.5)\n",
            "Requirement already satisfied: yarl<2.0,>=1.0 in /usr/local/lib/python3.10/dist-packages (from aiohttp->datasets) (1.9.4)\n",
            "Requirement already satisfied: async-timeout<5.0,>=4.0 in /usr/local/lib/python3.10/dist-packages (from aiohttp->datasets) (4.0.3)\n",
            "Requirement already satisfied: typing-extensions>=3.7.4.3 in /usr/local/lib/python3.10/dist-packages (from huggingface-hub>=0.21.2->datasets) (4.12.0)\n",
            "Requirement already satisfied: charset-normalizer<4,>=2 in /usr/local/lib/python3.10/dist-packages (from requests>=2.32.1->datasets) (3.3.2)\n",
            "Requirement already satisfied: idna<4,>=2.5 in /usr/local/lib/python3.10/dist-packages (from requests>=2.32.1->datasets) (3.7)\n",
            "Requirement already satisfied: urllib3<3,>=1.21.1 in /usr/local/lib/python3.10/dist-packages (from requests>=2.32.1->datasets) (2.0.7)\n",
            "Requirement already satisfied: certifi>=2017.4.17 in /usr/local/lib/python3.10/dist-packages (from requests>=2.32.1->datasets) (2024.2.2)\n",
            "Requirement already satisfied: python-dateutil>=2.8.2 in /usr/local/lib/python3.10/dist-packages (from pandas->datasets) (2.8.2)\n",
            "Requirement already satisfied: pytz>=2020.1 in /usr/local/lib/python3.10/dist-packages (from pandas->datasets) (2023.4)\n",
            "Requirement already satisfied: tzdata>=2022.1 in /usr/local/lib/python3.10/dist-packages (from pandas->datasets) (2024.1)\n",
            "Requirement already satisfied: six>=1.5 in /usr/local/lib/python3.10/dist-packages (from python-dateutil>=2.8.2->pandas->datasets) (1.16.0)\n"
          ]
        }
      ]
    },
    {
      "cell_type": "code",
      "source": [
        "import pandas as pd\n",
        "\n",
        "from transformers import BertTokenizer, BertForSequenceClassification, Trainer, TrainingArguments\n",
        "from torch.utils.data import DataLoader, Dataset\n",
        "import torch\n",
        "\n",
        "from transformers import BertForSequenceClassification, Trainer, TrainingArguments\n",
        "!pip install datasets\n",
        "from datasets import load_metric\n",
        "\n",
        "import torch\n",
        "from torch.utils.data import Dataset, DataLoader\n",
        "from transformers import BertTokenizer, BertForSequenceClassification, AdamW\n",
        "from datasets import load_metric\n",
        "import numpy as np\n",
        "from transformers import BertModel, GPT2Config, GPT2LMHeadModel\n",
        "import torch.nn as nn\n",
        "\n",
        "\n",
        "data_path = \"AnonymizedClinicalAbbreviationsAndAcronymsDataSet.txt\"\n",
        "\n",
        "try:\n",
        "    # 尝试使用 ISO-8859-1 编码读取数据\n",
        "    data = pd.read_csv(data_path, sep='|', header=None, names=[\n",
        "        \"Short_form\", \"Long_form\", \"Abbreviation\", \"Start_pos\", \"End_pos\", \"Section_info\", \"Context\"\n",
        "    ], encoding='ISO-8859-1')\n",
        "except UnicodeDecodeError:\n",
        "    # 如果 ISO-8859-1 编码失败，则忽略错误的字符\n",
        "    data = pd.read_csv(data_path, sep='|', header=None, names=[\n",
        "        \"Short_form\", \"Long_form\", \"Abbreviation\", \"Start_pos\", \"End_pos\", \"Section_info\", \"Context\"\n",
        "    ], encoding='ISO-8859-1', errors='ignore')\n",
        "\n",
        "print(data.head())\n",
        "print(data.info())"
      ],
      "metadata": {
        "colab": {
          "base_uri": "https://localhost:8080/"
        },
        "id": "EnTBpPcJDrIg",
        "outputId": "94c08884-06c2-45f4-f77c-c2f3e404ef6b"
      },
      "execution_count": null,
      "outputs": [
        {
          "output_type": "stream",
          "name": "stdout",
          "text": [
            "Requirement already satisfied: datasets in /usr/local/lib/python3.10/dist-packages (2.19.2)\n",
            "Requirement already satisfied: filelock in /usr/local/lib/python3.10/dist-packages (from datasets) (3.14.0)\n",
            "Requirement already satisfied: numpy>=1.17 in /usr/local/lib/python3.10/dist-packages (from datasets) (1.25.2)\n",
            "Requirement already satisfied: pyarrow>=12.0.0 in /usr/local/lib/python3.10/dist-packages (from datasets) (14.0.2)\n",
            "Requirement already satisfied: pyarrow-hotfix in /usr/local/lib/python3.10/dist-packages (from datasets) (0.6)\n",
            "Requirement already satisfied: dill<0.3.9,>=0.3.0 in /usr/local/lib/python3.10/dist-packages (from datasets) (0.3.8)\n",
            "Requirement already satisfied: pandas in /usr/local/lib/python3.10/dist-packages (from datasets) (2.0.3)\n",
            "Requirement already satisfied: requests>=2.32.1 in /usr/local/lib/python3.10/dist-packages (from datasets) (2.32.3)\n",
            "Requirement already satisfied: tqdm>=4.62.1 in /usr/local/lib/python3.10/dist-packages (from datasets) (4.66.4)\n",
            "Requirement already satisfied: xxhash in /usr/local/lib/python3.10/dist-packages (from datasets) (3.4.1)\n",
            "Requirement already satisfied: multiprocess in /usr/local/lib/python3.10/dist-packages (from datasets) (0.70.16)\n",
            "Requirement already satisfied: fsspec[http]<=2024.3.1,>=2023.1.0 in /usr/local/lib/python3.10/dist-packages (from datasets) (2023.6.0)\n",
            "Requirement already satisfied: aiohttp in /usr/local/lib/python3.10/dist-packages (from datasets) (3.9.5)\n",
            "Requirement already satisfied: huggingface-hub>=0.21.2 in /usr/local/lib/python3.10/dist-packages (from datasets) (0.23.2)\n",
            "Requirement already satisfied: packaging in /usr/local/lib/python3.10/dist-packages (from datasets) (24.0)\n",
            "Requirement already satisfied: pyyaml>=5.1 in /usr/local/lib/python3.10/dist-packages (from datasets) (6.0.1)\n",
            "Requirement already satisfied: aiosignal>=1.1.2 in /usr/local/lib/python3.10/dist-packages (from aiohttp->datasets) (1.3.1)\n",
            "Requirement already satisfied: attrs>=17.3.0 in /usr/local/lib/python3.10/dist-packages (from aiohttp->datasets) (23.2.0)\n",
            "Requirement already satisfied: frozenlist>=1.1.1 in /usr/local/lib/python3.10/dist-packages (from aiohttp->datasets) (1.4.1)\n",
            "Requirement already satisfied: multidict<7.0,>=4.5 in /usr/local/lib/python3.10/dist-packages (from aiohttp->datasets) (6.0.5)\n",
            "Requirement already satisfied: yarl<2.0,>=1.0 in /usr/local/lib/python3.10/dist-packages (from aiohttp->datasets) (1.9.4)\n",
            "Requirement already satisfied: async-timeout<5.0,>=4.0 in /usr/local/lib/python3.10/dist-packages (from aiohttp->datasets) (4.0.3)\n",
            "Requirement already satisfied: typing-extensions>=3.7.4.3 in /usr/local/lib/python3.10/dist-packages (from huggingface-hub>=0.21.2->datasets) (4.12.0)\n",
            "Requirement already satisfied: charset-normalizer<4,>=2 in /usr/local/lib/python3.10/dist-packages (from requests>=2.32.1->datasets) (3.3.2)\n",
            "Requirement already satisfied: idna<4,>=2.5 in /usr/local/lib/python3.10/dist-packages (from requests>=2.32.1->datasets) (3.7)\n",
            "Requirement already satisfied: urllib3<3,>=1.21.1 in /usr/local/lib/python3.10/dist-packages (from requests>=2.32.1->datasets) (2.0.7)\n",
            "Requirement already satisfied: certifi>=2017.4.17 in /usr/local/lib/python3.10/dist-packages (from requests>=2.32.1->datasets) (2024.2.2)\n",
            "Requirement already satisfied: python-dateutil>=2.8.2 in /usr/local/lib/python3.10/dist-packages (from pandas->datasets) (2.8.2)\n",
            "Requirement already satisfied: pytz>=2020.1 in /usr/local/lib/python3.10/dist-packages (from pandas->datasets) (2023.4)\n",
            "Requirement already satisfied: tzdata>=2022.1 in /usr/local/lib/python3.10/dist-packages (from pandas->datasets) (2024.1)\n",
            "Requirement already satisfied: six>=1.5 in /usr/local/lib/python3.10/dist-packages (from python-dateutil>=2.8.2->pandas->datasets) (1.16.0)\n",
            "  Short_form Long_form Abbreviation  Start_pos  End_pos  \\\n",
            "0         AB  abortion          AB.      231.0    233.0   \n",
            "1         AB  abortion          AB.      249.0    251.0   \n",
            "2         AB  abortion           AB      223.0    224.0   \n",
            "3         AB  abortion          AB.      194.0    196.0   \n",
            "4         AB  abortion           AB      114.0    115.0   \n",
            "\n",
            "                     Section_info  \\\n",
            "0                             NaN   \n",
            "1                             NaN   \n",
            "2                 PAST OB HISTORY   \n",
            "3  HISTORY OF THE PRESENT ILLNESS   \n",
            "4             PAST OB-GYN HISTORY   \n",
            "\n",
            "                                             Context  \n",
            "0  _%#NAME#%_ _%#NAME#%_ is a 29-year-old gravida...  \n",
            "1  She is now bleeding quite heavily. Ultrasound ...  \n",
            "2  ALLERGIES: Heparin and Imitrex. PAST OB HISTOR...  \n",
            "3  She had a pelvic ultrasound at Park Nicollet o...  \n",
            "4  On _%#MMDD2007#%_, normal anatomy with anterio...  \n",
            "<class 'pandas.core.frame.DataFrame'>\n",
            "RangeIndex: 37500 entries, 0 to 37499\n",
            "Data columns (total 7 columns):\n",
            " #   Column        Non-Null Count  Dtype  \n",
            "---  ------        --------------  -----  \n",
            " 0   Short_form    37000 non-null  object \n",
            " 1   Long_form     37500 non-null  object \n",
            " 2   Abbreviation  37047 non-null  object \n",
            " 3   Start_pos     37496 non-null  float64\n",
            " 4   End_pos       37496 non-null  float64\n",
            " 5   Section_info  36475 non-null  object \n",
            " 6   Context       37496 non-null  object \n",
            "dtypes: float64(2), object(5)\n",
            "memory usage: 2.0+ MB\n",
            "None\n"
          ]
        }
      ]
    },
    {
      "cell_type": "code",
      "source": [
        "# 假设 data 是 pandas DataFrame\n",
        "labels = data['Long_form'].tolist()  # 从 DataFrame 中提取标签列\n",
        "texts = data['Context'].tolist()  # 从 DataFrame 中提取文本列\n",
        "\n",
        "# 创建从类别名称到整数索引的映射\n",
        "label_list = sorted(set(labels))  # 创建一个包含所有唯一标签的列表\n",
        "label_map = {label: idx for idx, label in enumerate(label_list)}\n",
        "\n",
        "# 创建从整数索引到类别名称的逆映射\n",
        "inverse_label_map = {idx: label for label, idx in label_map.items()}\n",
        "\n",
        "# 打印标签映射以确保其正确性\n",
        "print(\"Label Map:\", label_map)\n",
        "print(\"Inverse Label Map:\", inverse_label_map)\n",
        "\n",
        "\n",
        "\n",
        "\n",
        "print(\"Total labels:\", len(label_map))\n",
        "print(\"Total Inverse Label:\", len(inverse_label_map))\n",
        "\n",
        "\n",
        "\n",
        "# 将字符串标签转换为整数索引\n",
        "labels_indexed = [label_map[label] for label in labels]\n",
        "\n",
        "# 使用 train_test_split 分割数据集\n",
        "from sklearn.model_selection import train_test_split\n",
        "texts_train, texts_test, labels_train, labels_test = train_test_split(\n",
        "    texts, labels_indexed, test_size=0.2, random_state=42)"
      ],
      "metadata": {
        "colab": {
          "base_uri": "https://localhost:8080/"
        },
        "id": "bKh6NDuXV8K2",
        "outputId": "b9c9c246-3220-4854-ce67-bc2c6c835eff"
      },
      "execution_count": null,
      "outputs": [
        {
          "output_type": "stream",
          "name": "stdout",
          "text": [
            "Label Map: {'(PO Box) C4': 0, '(class) IA': 1, '(complement) component 3': 2, '(complement) component 4': 3, '(cycle) IB': 4, '(device) MP': 5, '(device) PD': 6, '(diltiazem) DC': 7, '(drug) AC': 8, '(drug) DC': 9, '(drug) DT': 10, '(drug) ES': 11, '(drug) IT': 12, '(drug) MP': 13, '(drug) MS': 14, '(drug) NP': 15, '(drug) OR': 16, '(drug) PAC': 17, '(drug) PD': 18, '(drug) PR': 19, '(drug) RT': 20, '(grade) IA': 21, '(grade) IB': 22, '(stage) C3': 23, '(stage) IA': 24, '(stage) IB': 25, '(status) IA': 26, '(status) IB': 27, '(type) IA': 28, '(type) IB': 29, 'American Society of Anesthesiologists': 30, 'American Society of Anesthesiologists:ASA': 31, 'BK (virus)': 32, 'C-reactive': 33, 'California': 34, \"Children's Depression Inventory\": 35, 'District of Columbia': 36, 'Fairview Southdale Hospital': 37, 'GENERAL ENGLISH': 38, 'Iowa': 39, 'Los Angeles': 40, 'Louisiana': 41, 'MISTAKE:EZ PAP': 42, 'MISTAKE:Oncotype DX': 43, 'MISTAKE:abduction': 44, 'Mall of America:MOA': 45, 'NAME': 46, 'Narcotics Anonymous': 47, 'Parkinson disease': 48, 'Pneumocystis jiroveci pneumonia': 49, 'S2 (heart sound):S2': 50, 'T1 (MRI)': 51, 'T2 (MRI)': 52, 'T2 Nodes': 53, 'T3 (ECG pattern)': 54, 'UNSURED SENSE': 55, 'United States': 56, 'X-ray finding': 57, 'abdominal circumference': 58, 'abortion': 59, 'acetate': 60, 'acetyl lysergic acid diethylamide': 61, 'acetylsalicylic acid': 62, 'acromioclavicular': 63, 'ad lib on demand': 64, 'adrenoleukodystrophy': 65, 'adriamycin cyclophosphamide': 66, 'advanced maternal age': 67, 'afternoon': 68, 'against medical advice': 69, 'alanine aminotransferase:ALT': 70, 'alternating current': 71, 'aminosalicylic acid': 72, 'angiotensin-converting enzyme:ACE': 73, 'ankle-brachial': 74, 'antecubital': 75, 'anticoagulation': 76, 'antimitochondrial antibody': 77, 'antinuclear antibody:ANA': 78, 'antipyrine benzocaine': 79, 'aortic valve': 80, 'aortic valve regurgitation': 81, 'aortic valve replacement': 82, 'aortic valve resistance': 83, 'arterial blood': 84, 'arteriovenous': 85, 'arteriovenous:AV': 86, 'assist control': 87, 'atrioventricular': 88, 'atrioventricular:AV': 89, 'auditory brainstem response:ABR': 90, 'augmented voltage right arm': 91, 'basic metabolic profile': 92, 'before meals': 93, 'below knee': 94, 'beta-natriuretic peptide:BNP': 95, 'blood alcohol level': 96, 'blood group in ABO system': 97, 'bone marrow': 98, 'bone marrow transplant:BMT': 99, 'bone morphogenetic protein': 100, 'bowel movement': 101, 'breast milk': 102, 'bronchoalveolar lavage': 103, 'cancer': 104, 'cancer:CA': 105, 'carbohydrate antigen': 106, 'carcinoembryonic antigen': 107, 'carcinosarcoma:CaS': 108, 'cardiorespiratory': 109, 'cardiovascular pulmonary': 110, 'cardiovascular system': 111, 'carotid endarterectomy': 112, 'center for diagnostic imaging': 113, 'central nervous system:CNS': 114, 'central venous pressure': 115, 'cerebellopontine angle:CPA': 116, 'cerebrovascular accident': 117, 'cerebrovascular accident:CVA': 118, 'cervical (level) 3': 119, 'cervical (level) 4': 120, 'chorionic villus sampling': 121, 'clean, dry, intact': 122, 'clear to auscultation': 123, 'closed reduction': 124, 'cluster of differentiation 4:CD4': 125, 'complete remission': 126, 'computed tomographic angiography': 127, 'conjunctivae and sclerae': 128, 'controlled release': 129, 'costovertebral angle': 130, 'creatine phosphokinase:CPK': 131, 'creatinine': 132, 'culture and sensitivity': 133, 'customer, value, service': 134, 'cyclophosphamide, vincristine, prednisone': 135, 'deceased donor:DD': 136, 'deep vein thrombosis:DVT': 137, 'delirium tremens': 138, 'deoxyribonucleic acid:DNA': 139, 'desquamative interstitial pneumonia': 140, 'dextromethorphan': 141, 'diabetes mellitus': 142, 'diphtheria-tetanus': 143, 'dipropionate': 144, 'direct and consensual': 145, 'direct current': 146, 'discharge': 147, 'discontinue': 148, 'distal interphalangeal': 149, 'doppler echo:DE': 150, 'dorsalis pedis:DP': 151, 'ejection fraction:EF': 152, 'elective termination': 153, 'electroconvulsive therapy:ECT': 154, 'electrophysiology:EP': 155, 'emergency room': 156, 'endotracheal': 157, 'enhanced sensitivity': 158, 'enteric-coated': 159, 'enterocutaneous': 160, 'enterocutaneous:EC': 161, 'enterostomal therapy': 162, 'epirubicin': 163, 'erythrocyte sedimentation rate:ESR': 164, 'estrogen receptor': 165, 'extended release': 166, 'extensor carpi': 167, 'extra strength': 168, 'fascioscapulohumeral muscular dystrophy': 169, 'fluorescent in situ hybridization': 170, 'follicle-stimulating hormone': 171, 'fourth heart sound:S4': 172, 'gamma-glutamyltransferase:GGT': 173, 'gastrostomy tube': 174, 'glucose tolerance': 175, 'glutamyl transpeptidase': 176, 'gutta': 177, 'guttae:GGT': 178, 'idiopathic thrombocytopenic purpura': 179, 'idiopathic thrombocytopenic purpura:ITP': 180, 'iliotibial': 181, 'immature-to-total neutrophil': 182, 'immediate-release': 183, 'in vitro fertilization': 184, 'inferior vena cava:IVC': 185, 'information technology': 186, 'infrared': 187, 'inspiratory time': 188, 'interferon beta': 189, 'internal rotation': 190, 'international baccalaureate': 191, 'intertrochanteric': 192, 'interventional radiology': 193, 'intraarterial': 194, 'intramedullary': 195, 'intramuscular': 196, 'intrathecal': 197, 'intravenous fluid': 198, 'intravenous:IV': 199, 'ischial tuberosity': 200, 'left anterior descending:LAD': 201, 'left atrial': 202, 'left ventricle:LV': 203, 'leukocyte esterase': 204, 'long-acting': 205, 'long-acting:LA': 206, 'lower extremity': 207, 'lupus erythematosus': 208, 'lymphedema': 209, 'magnetic resonance': 210, 'master of science': 211, 'medical doctor:MD': 212, 'medical record': 213, 'medical student': 214, 'menstrual period': 215, 'mental retardation': 216, 'mercaptopurine': 217, 'mesangial proliferative': 218, 'metabolic panel': 219, 'metacarpophalangeal': 220, 'metacarpophalangeal:MP': 221, 'metarsophalangeal': 222, 'metatarsophalangeal': 223, 'metatarsophalangeal/metacarpophalangeal': 224, 'methicillin-susceptible Staphylococcus aureus': 225, 'methicillin-susceptible Staphylococcus aureus:MSSA': 226, 'military police': 227, 'milk of magnesia': 228, 'milligram:mg': 229, 'mitral regurgitation': 230, 'mitral stenosis': 231, 'modified selective severity assessment': 232, 'morphine sulfate': 233, 'multiple sclerosis': 234, 'multiples of median': 235, 'musculoskeletal': 236, 'myocardial infarction:MI': 237, 'nasopharyngeal': 238, 'nasopharynx': 239, 'natriuretic peptide': 240, 'no acute distress': 241, 'not applicable': 242, 'nothing abnormal detected': 243, 'nurse anesthetist': 244, 'nurse practitioner': 245, 'nurse practitioner:NP': 246, 'oblique presentation/occiput posterior': 247, 'occiput posterior': 248, 'operating room': 249, 'operative': 250, 'ophthalmic': 251, 'ornithine transcarbamoylase': 252, 'oropharynx': 253, 'outpatient': 254, 'ova and parasites': 255, 'over the counter': 256, 'pancreatic duct': 257, 'patent ductus': 258, 'patent ductus arteriosus': 259, 'patient-controlled analgesia:PCA': 260, 'per rectum': 261, 'peritoneal dialysis': 262, 'personality disorder': 263, 'phencyclidine': 264, 'phosphate dehydrogenase': 265, 'physical medicine and rehabilitation:PMR': 266, 'physical therapy': 267, 'physical therapy:PT': 268, 'physician assistant': 269, 'physician assistant certification': 270, 'physician associates': 271, 'picture archiving communication': 272, 'pleural effusion': 273, 'police department': 274, 'post anesthesia care': 275, 'posterior descending': 276, 'posterior descending artery': 277, 'posterior tibial': 278, 'posterior-anterior': 279, 'pr interval': 280, 'pravastatin or atorvastatin evaluation and infection therapy': 281, 'premature atrial contraction': 282, 'pressure equalization': 283, 'pressure equalization:PE': 284, 'primary care physician': 285, 'prism diopter': 286, 'progesterone receptor': 287, 'propionylcarnitine': 288, 'prostate-specific antigen:PSA': 289, 'protein C and protein S': 290, 'prothrombin': 291, 'prothrombin time': 292, 'pulmonary arterial concentration': 293, 'pulmonary artery': 294, 'pulmonary artery catheter': 295, 'pulmonary auscultation': 296, 'pulmonary embolus': 297, 'pulmonary embolus:PE': 298, 'pulmonary regurgitation': 299, 'pulse rate': 300, 'purified protein derivative:PPD': 301, 'radiation therapy': 302, 'rapid ventricular response:RVR': 303, 'respiratory therapist': 304, 'respiratory therapy': 305, 'retinoic acid': 306, 'retrograde tachycardia': 307, 'rheumatoid arthritis': 308, 'right': 309, 'right atrium': 310, 'room air': 311, 'saturation': 312, 'sequential multiple autoanalyzer': 313, 'sickle cell genotype SS': 314, 'sinemet-levodopa': 315, 'single strength': 316, 'sinuatrial': 317, 'sinus arrest': 318, 'slow acting/sustained action': 319, 'smooth muscle actin': 320, 'smooth muscle antibody': 321, 'sodium': 322, 'spinal muscular atrophy': 323, 'spontaneous bacterial peritonitis': 324, 'superior mesenteric artery': 325, 'systolic blood pressure': 326, 'term 1': 327, 'term 2': 328, 'term 3': 329, 'thoracic (level) 1': 330, 'thoracic (level) 2': 331, 'thoracic (level) 3': 332, 'thoracic (level) 4': 333, 'thyroxine': 334, 'tissue plasminogen activator:TPA': 335, 'transient ischemic attack:TIA': 336, 'triiodothyronine': 337, 'tumor stage 1': 338, 'tumor stage 2': 339, 'tumor stage 3': 340, 'tumor stage 4': 341, 'type 1 (diabetes mellitus)': 342, 'type A, type B': 343, 'ultrasound': 344, 'vascular access device': 345, 'venous blood gas': 346, 'ventricular assist device': 347, 'vertical banded gastroplasty': 348, 'video-assisted thoracic surgery:VATS': 349, 'vincristine adriamycin and dexamethasone': 350}\n",
            "Inverse Label Map: {0: '(PO Box) C4', 1: '(class) IA', 2: '(complement) component 3', 3: '(complement) component 4', 4: '(cycle) IB', 5: '(device) MP', 6: '(device) PD', 7: '(diltiazem) DC', 8: '(drug) AC', 9: '(drug) DC', 10: '(drug) DT', 11: '(drug) ES', 12: '(drug) IT', 13: '(drug) MP', 14: '(drug) MS', 15: '(drug) NP', 16: '(drug) OR', 17: '(drug) PAC', 18: '(drug) PD', 19: '(drug) PR', 20: '(drug) RT', 21: '(grade) IA', 22: '(grade) IB', 23: '(stage) C3', 24: '(stage) IA', 25: '(stage) IB', 26: '(status) IA', 27: '(status) IB', 28: '(type) IA', 29: '(type) IB', 30: 'American Society of Anesthesiologists', 31: 'American Society of Anesthesiologists:ASA', 32: 'BK (virus)', 33: 'C-reactive', 34: 'California', 35: \"Children's Depression Inventory\", 36: 'District of Columbia', 37: 'Fairview Southdale Hospital', 38: 'GENERAL ENGLISH', 39: 'Iowa', 40: 'Los Angeles', 41: 'Louisiana', 42: 'MISTAKE:EZ PAP', 43: 'MISTAKE:Oncotype DX', 44: 'MISTAKE:abduction', 45: 'Mall of America:MOA', 46: 'NAME', 47: 'Narcotics Anonymous', 48: 'Parkinson disease', 49: 'Pneumocystis jiroveci pneumonia', 50: 'S2 (heart sound):S2', 51: 'T1 (MRI)', 52: 'T2 (MRI)', 53: 'T2 Nodes', 54: 'T3 (ECG pattern)', 55: 'UNSURED SENSE', 56: 'United States', 57: 'X-ray finding', 58: 'abdominal circumference', 59: 'abortion', 60: 'acetate', 61: 'acetyl lysergic acid diethylamide', 62: 'acetylsalicylic acid', 63: 'acromioclavicular', 64: 'ad lib on demand', 65: 'adrenoleukodystrophy', 66: 'adriamycin cyclophosphamide', 67: 'advanced maternal age', 68: 'afternoon', 69: 'against medical advice', 70: 'alanine aminotransferase:ALT', 71: 'alternating current', 72: 'aminosalicylic acid', 73: 'angiotensin-converting enzyme:ACE', 74: 'ankle-brachial', 75: 'antecubital', 76: 'anticoagulation', 77: 'antimitochondrial antibody', 78: 'antinuclear antibody:ANA', 79: 'antipyrine benzocaine', 80: 'aortic valve', 81: 'aortic valve regurgitation', 82: 'aortic valve replacement', 83: 'aortic valve resistance', 84: 'arterial blood', 85: 'arteriovenous', 86: 'arteriovenous:AV', 87: 'assist control', 88: 'atrioventricular', 89: 'atrioventricular:AV', 90: 'auditory brainstem response:ABR', 91: 'augmented voltage right arm', 92: 'basic metabolic profile', 93: 'before meals', 94: 'below knee', 95: 'beta-natriuretic peptide:BNP', 96: 'blood alcohol level', 97: 'blood group in ABO system', 98: 'bone marrow', 99: 'bone marrow transplant:BMT', 100: 'bone morphogenetic protein', 101: 'bowel movement', 102: 'breast milk', 103: 'bronchoalveolar lavage', 104: 'cancer', 105: 'cancer:CA', 106: 'carbohydrate antigen', 107: 'carcinoembryonic antigen', 108: 'carcinosarcoma:CaS', 109: 'cardiorespiratory', 110: 'cardiovascular pulmonary', 111: 'cardiovascular system', 112: 'carotid endarterectomy', 113: 'center for diagnostic imaging', 114: 'central nervous system:CNS', 115: 'central venous pressure', 116: 'cerebellopontine angle:CPA', 117: 'cerebrovascular accident', 118: 'cerebrovascular accident:CVA', 119: 'cervical (level) 3', 120: 'cervical (level) 4', 121: 'chorionic villus sampling', 122: 'clean, dry, intact', 123: 'clear to auscultation', 124: 'closed reduction', 125: 'cluster of differentiation 4:CD4', 126: 'complete remission', 127: 'computed tomographic angiography', 128: 'conjunctivae and sclerae', 129: 'controlled release', 130: 'costovertebral angle', 131: 'creatine phosphokinase:CPK', 132: 'creatinine', 133: 'culture and sensitivity', 134: 'customer, value, service', 135: 'cyclophosphamide, vincristine, prednisone', 136: 'deceased donor:DD', 137: 'deep vein thrombosis:DVT', 138: 'delirium tremens', 139: 'deoxyribonucleic acid:DNA', 140: 'desquamative interstitial pneumonia', 141: 'dextromethorphan', 142: 'diabetes mellitus', 143: 'diphtheria-tetanus', 144: 'dipropionate', 145: 'direct and consensual', 146: 'direct current', 147: 'discharge', 148: 'discontinue', 149: 'distal interphalangeal', 150: 'doppler echo:DE', 151: 'dorsalis pedis:DP', 152: 'ejection fraction:EF', 153: 'elective termination', 154: 'electroconvulsive therapy:ECT', 155: 'electrophysiology:EP', 156: 'emergency room', 157: 'endotracheal', 158: 'enhanced sensitivity', 159: 'enteric-coated', 160: 'enterocutaneous', 161: 'enterocutaneous:EC', 162: 'enterostomal therapy', 163: 'epirubicin', 164: 'erythrocyte sedimentation rate:ESR', 165: 'estrogen receptor', 166: 'extended release', 167: 'extensor carpi', 168: 'extra strength', 169: 'fascioscapulohumeral muscular dystrophy', 170: 'fluorescent in situ hybridization', 171: 'follicle-stimulating hormone', 172: 'fourth heart sound:S4', 173: 'gamma-glutamyltransferase:GGT', 174: 'gastrostomy tube', 175: 'glucose tolerance', 176: 'glutamyl transpeptidase', 177: 'gutta', 178: 'guttae:GGT', 179: 'idiopathic thrombocytopenic purpura', 180: 'idiopathic thrombocytopenic purpura:ITP', 181: 'iliotibial', 182: 'immature-to-total neutrophil', 183: 'immediate-release', 184: 'in vitro fertilization', 185: 'inferior vena cava:IVC', 186: 'information technology', 187: 'infrared', 188: 'inspiratory time', 189: 'interferon beta', 190: 'internal rotation', 191: 'international baccalaureate', 192: 'intertrochanteric', 193: 'interventional radiology', 194: 'intraarterial', 195: 'intramedullary', 196: 'intramuscular', 197: 'intrathecal', 198: 'intravenous fluid', 199: 'intravenous:IV', 200: 'ischial tuberosity', 201: 'left anterior descending:LAD', 202: 'left atrial', 203: 'left ventricle:LV', 204: 'leukocyte esterase', 205: 'long-acting', 206: 'long-acting:LA', 207: 'lower extremity', 208: 'lupus erythematosus', 209: 'lymphedema', 210: 'magnetic resonance', 211: 'master of science', 212: 'medical doctor:MD', 213: 'medical record', 214: 'medical student', 215: 'menstrual period', 216: 'mental retardation', 217: 'mercaptopurine', 218: 'mesangial proliferative', 219: 'metabolic panel', 220: 'metacarpophalangeal', 221: 'metacarpophalangeal:MP', 222: 'metarsophalangeal', 223: 'metatarsophalangeal', 224: 'metatarsophalangeal/metacarpophalangeal', 225: 'methicillin-susceptible Staphylococcus aureus', 226: 'methicillin-susceptible Staphylococcus aureus:MSSA', 227: 'military police', 228: 'milk of magnesia', 229: 'milligram:mg', 230: 'mitral regurgitation', 231: 'mitral stenosis', 232: 'modified selective severity assessment', 233: 'morphine sulfate', 234: 'multiple sclerosis', 235: 'multiples of median', 236: 'musculoskeletal', 237: 'myocardial infarction:MI', 238: 'nasopharyngeal', 239: 'nasopharynx', 240: 'natriuretic peptide', 241: 'no acute distress', 242: 'not applicable', 243: 'nothing abnormal detected', 244: 'nurse anesthetist', 245: 'nurse practitioner', 246: 'nurse practitioner:NP', 247: 'oblique presentation/occiput posterior', 248: 'occiput posterior', 249: 'operating room', 250: 'operative', 251: 'ophthalmic', 252: 'ornithine transcarbamoylase', 253: 'oropharynx', 254: 'outpatient', 255: 'ova and parasites', 256: 'over the counter', 257: 'pancreatic duct', 258: 'patent ductus', 259: 'patent ductus arteriosus', 260: 'patient-controlled analgesia:PCA', 261: 'per rectum', 262: 'peritoneal dialysis', 263: 'personality disorder', 264: 'phencyclidine', 265: 'phosphate dehydrogenase', 266: 'physical medicine and rehabilitation:PMR', 267: 'physical therapy', 268: 'physical therapy:PT', 269: 'physician assistant', 270: 'physician assistant certification', 271: 'physician associates', 272: 'picture archiving communication', 273: 'pleural effusion', 274: 'police department', 275: 'post anesthesia care', 276: 'posterior descending', 277: 'posterior descending artery', 278: 'posterior tibial', 279: 'posterior-anterior', 280: 'pr interval', 281: 'pravastatin or atorvastatin evaluation and infection therapy', 282: 'premature atrial contraction', 283: 'pressure equalization', 284: 'pressure equalization:PE', 285: 'primary care physician', 286: 'prism diopter', 287: 'progesterone receptor', 288: 'propionylcarnitine', 289: 'prostate-specific antigen:PSA', 290: 'protein C and protein S', 291: 'prothrombin', 292: 'prothrombin time', 293: 'pulmonary arterial concentration', 294: 'pulmonary artery', 295: 'pulmonary artery catheter', 296: 'pulmonary auscultation', 297: 'pulmonary embolus', 298: 'pulmonary embolus:PE', 299: 'pulmonary regurgitation', 300: 'pulse rate', 301: 'purified protein derivative:PPD', 302: 'radiation therapy', 303: 'rapid ventricular response:RVR', 304: 'respiratory therapist', 305: 'respiratory therapy', 306: 'retinoic acid', 307: 'retrograde tachycardia', 308: 'rheumatoid arthritis', 309: 'right', 310: 'right atrium', 311: 'room air', 312: 'saturation', 313: 'sequential multiple autoanalyzer', 314: 'sickle cell genotype SS', 315: 'sinemet-levodopa', 316: 'single strength', 317: 'sinuatrial', 318: 'sinus arrest', 319: 'slow acting/sustained action', 320: 'smooth muscle actin', 321: 'smooth muscle antibody', 322: 'sodium', 323: 'spinal muscular atrophy', 324: 'spontaneous bacterial peritonitis', 325: 'superior mesenteric artery', 326: 'systolic blood pressure', 327: 'term 1', 328: 'term 2', 329: 'term 3', 330: 'thoracic (level) 1', 331: 'thoracic (level) 2', 332: 'thoracic (level) 3', 333: 'thoracic (level) 4', 334: 'thyroxine', 335: 'tissue plasminogen activator:TPA', 336: 'transient ischemic attack:TIA', 337: 'triiodothyronine', 338: 'tumor stage 1', 339: 'tumor stage 2', 340: 'tumor stage 3', 341: 'tumor stage 4', 342: 'type 1 (diabetes mellitus)', 343: 'type A, type B', 344: 'ultrasound', 345: 'vascular access device', 346: 'venous blood gas', 347: 'ventricular assist device', 348: 'vertical banded gastroplasty', 349: 'video-assisted thoracic surgery:VATS', 350: 'vincristine adriamycin and dexamethasone'}\n",
            "Total labels: 351\n",
            "Total Inverse Label: 351\n"
          ]
        }
      ]
    },
    {
      "cell_type": "code",
      "source": [
        "\n",
        "\n",
        "# 显示一些基本信息以确保数据正确处理\n",
        "print(f\"Number of training samples: {len(texts_train)}\")\n",
        "print(f\"Number of test samples: {len(texts_test)}\")\n",
        "print(\"Example of processed data:\")\n",
        "print(texts_train[0], labels_train[0])\n"
      ],
      "metadata": {
        "colab": {
          "base_uri": "https://localhost:8080/"
        },
        "id": "COCRzL0QCq6W",
        "outputId": "c7d8a23d-1442-4ac9-9d8b-09cecd2f5481"
      },
      "execution_count": null,
      "outputs": [
        {
          "output_type": "stream",
          "name": "stdout",
          "text": [
            "Number of training samples: 30000\n",
            "Number of test samples: 7500\n",
            "Example of processed data:\n",
            "Will get his home medications and continue those. Will ask neurology to review his antiepileptic regimen and have spoken with Dr. _%#NAME#%_. We will have OT and PT evaluate the patient. Suspect that he may need a TCU versus home with additional services. LABORATORY DATA: That was performed here includes the following laboratory tests. 267\n"
          ]
        }
      ]
    },
    {
      "cell_type": "code",
      "source": [
        "\n",
        "\n",
        "\n",
        "class ClinicalTextDataset(Dataset):\n",
        "    def __init__(self, encodings, labels):\n",
        "        self.encodings = encodings\n",
        "        self.labels = labels\n",
        "\n",
        "    def __getitem__(self, idx):\n",
        "        item = {key: torch.tensor(val[idx]) for key, val in self.encodings.items()}\n",
        "        item['labels'] = torch.tensor(self.labels[idx])\n",
        "        return item\n",
        "\n",
        "    def __len__(self):\n",
        "        return len(self.labels)\n",
        "\n",
        "# 加载预训练的Tokenizer\n",
        "tokenizer = BertTokenizer.from_pretrained('bert-base-uncased')\n",
        "\n",
        "from transformers import BertTokenizer, BertForSequenceClassification, AutoTokenizer, AutoModelForSequenceClassification\n",
        "\n",
        "\n",
        "\n",
        "\n",
        "# 在将数据传给tokenizer之前，确保所有文本都是字符串\n",
        "texts_train = [str(text) for text in texts_train]\n",
        "texts_test = [str(text) for text in texts_test]\n",
        "\n",
        "# 现在尝试编码\n",
        "train_encodings = tokenizer(texts_train, truncation=True, padding=True, max_length=512)\n",
        "test_encodings = tokenizer(texts_test, truncation=True, padding=True, max_length=512)\n",
        "\n",
        "\n",
        "# 编码数据\n",
        "train_encodings = tokenizer(texts_train, truncation=True, padding=True, max_length=512)\n",
        "test_encodings = tokenizer(texts_test, truncation=True, padding=True, max_length=512)\n",
        "\n",
        "# 创建数据集\n",
        "train_dataset = ClinicalTextDataset(train_encodings, labels_train)\n",
        "test_dataset = ClinicalTextDataset(test_encodings, labels_test)\n",
        "\n",
        "device = torch.device(\"cuda\" if torch.cuda.is_available() else \"cpu\")\n",
        "\n",
        "\n",
        "# 加载预训练的BERT模型，添加一个顶层用于分类\n",
        "#model = AutoModelForSequenceClassification.from_pretrained(\"dmis-lab/biobert-v1.1\", num_labels=len(label_map)).to(device)\n",
        "\n",
        "\n",
        "\n",
        "class CustomBertForSequenceClassification(nn.Module):\n",
        "    def __init__(self, pretrained_model_name, num_labels):\n",
        "        super().__init__()\n",
        "        self.bert = BertModel.from_pretrained(pretrained_model_name)\n",
        "        self.classifier = nn.Linear(self.bert.config.hidden_size, num_labels)\n",
        "        self.dropout = nn.Dropout(self.bert.config.hidden_dropout_prob)\n",
        "        self.num_labels = num_labels\n",
        "\n",
        "    def forward(self, input_ids, attention_mask=None, labels=None):\n",
        "        outputs = self.bert(input_ids=input_ids, attention_mask=attention_mask, return_dict=True)\n",
        "        pooled_output = self.dropout(outputs.pooler_output)\n",
        "        logits = self.classifier(pooled_output)\n",
        "\n",
        "        loss = None\n",
        "        if labels is not None:\n",
        "            loss_fct = nn.CrossEntropyLoss()\n",
        "            loss = loss_fct(logits.view(-1, self.num_labels), labels.view(-1))\n",
        "\n",
        "        return {'loss': loss, 'logits': logits}\n",
        "\n",
        "model = CustomBertForSequenceClassification('bert-base-uncased',  num_labels=len(label_map)).to(device)\n",
        "\n",
        "#model = BertForSequenceClassification.from_pretrained('bert-base-uncased', num_labels=len(label_map)).to(device)\n",
        "\n",
        "# 创建数据加载器\n",
        "train_loader = DataLoader(train_dataset, batch_size=64, shuffle=True)\n",
        "test_loader = DataLoader(test_dataset, batch_size=64, shuffle=False)\n",
        "\n",
        "\n"
      ],
      "metadata": {
        "id": "2hYuRKN6Fpvr",
        "colab": {
          "base_uri": "https://localhost:8080/"
        },
        "outputId": "9e8ddd87-82b4-4403-d24a-9e94428bcdb2"
      },
      "execution_count": null,
      "outputs": [
        {
          "output_type": "stream",
          "name": "stderr",
          "text": [
            "/usr/local/lib/python3.10/dist-packages/huggingface_hub/utils/_token.py:89: UserWarning: \n",
            "The secret `HF_TOKEN` does not exist in your Colab secrets.\n",
            "To authenticate with the Hugging Face Hub, create a token in your settings tab (https://huggingface.co/settings/tokens), set it as secret in your Google Colab and restart your session.\n",
            "You will be able to reuse this secret in all of your notebooks.\n",
            "Please note that authentication is recommended but still optional to access public models or datasets.\n",
            "  warnings.warn(\n"
          ]
        }
      ]
    },
    {
      "cell_type": "code",
      "source": [
        "from transformers import AdamW\n",
        "from torch.utils.data import Dataset, DataLoader\n",
        "from sklearn.metrics import accuracy_score\n",
        "\n",
        "metric = load_metric(\"accuracy\")\n",
        "\n",
        "\n",
        "def compute_metrics(preds, labels):\n",
        "    pred_labels = np.argmax(preds, axis=1)\n",
        "    accuracy = accuracy_score(labels, pred_labels)\n",
        "    return accuracy\n",
        "\n",
        "def evaluate(model, test_loader, device):\n",
        "    model.eval()\n",
        "    total_loss = 0\n",
        "    all_preds = []\n",
        "    all_labels = []\n",
        "    with torch.no_grad():\n",
        "        for batch in test_loader:\n",
        "            input_ids = batch['input_ids'].to(device)\n",
        "            attention_mask = batch['attention_mask'].to(device)\n",
        "            labels = batch['labels'].to(device)\n",
        "            outputs = model(input_ids, attention_mask=attention_mask, labels=labels)\n",
        "            loss = outputs['loss']\n",
        "            logits = outputs['logits']\n",
        "            total_loss += loss.item()\n",
        "            all_preds.extend(logits.cpu().numpy())\n",
        "            all_labels.extend(labels.cpu().numpy())\n",
        "    avg_loss = total_loss / len(test_loader)\n",
        "    accuracy = compute_metrics(np.array(all_preds), np.array(all_labels))\n",
        "    return avg_loss, accuracy\n",
        "\n",
        "def train(model, train_loader, optimizer, device):\n",
        "    model.train()\n",
        "    total_loss = 0\n",
        "    for batch in train_loader:\n",
        "        optimizer.zero_grad()\n",
        "        input_ids = batch['input_ids'].to(device)\n",
        "        attention_mask = batch['attention_mask'].to(device)\n",
        "        labels = batch['labels'].to(device)\n",
        "        outputs = model(input_ids, attention_mask=attention_mask, labels=labels)\n",
        "        loss = outputs['loss']\n",
        "        loss.backward()\n",
        "        optimizer.step()\n",
        "        total_loss += loss.item()\n",
        "    avg_loss = total_loss / len(train_loader)\n",
        "    return avg_loss\n",
        "\n",
        "def train_model(model, train_loader, valid_loader, device, num_epochs=3):\n",
        "    optimizer = torch.optim.Adam(model.parameters(), lr=5e-5)\n",
        "    for epoch in range(num_epochs):\n",
        "        model.train()\n",
        "        total_train_loss = 0\n",
        "        for step, batch in enumerate(train_loader):\n",
        "            input_ids, attention_mask, labels = (\n",
        "                batch['input_ids'].to(device),\n",
        "                batch['attention_mask'].to(device),\n",
        "                batch['labels'].to(device)\n",
        "            )\n",
        "            optimizer.zero_grad()\n",
        "            outputs = model(input_ids, attention_mask=attention_mask, labels=labels)\n",
        "            loss = outputs['loss']\n",
        "\n",
        "            loss.backward()\n",
        "            optimizer.step()\n",
        "            total_train_loss += loss.item()\n",
        "\n",
        "            if step % 100 == 0:\n",
        "                print(f\"Epoch {epoch + 1}, Step {step}, Loss: {loss.item()}\")\n",
        "\n",
        "        print(f\"Epoch {epoch + 1}, Average Training Loss: {total_train_loss / len(train_loader)}\")\n",
        "\n",
        "        val_loss, val_accuracy = evaluate(model, valid_loader, device)\n",
        "        print(f\"Epoch {epoch + 1}, Validation Loss: {val_loss:.4f}, Validation Accuracy: {val_accuracy:.4f}\")\n",
        "def zero_shot_evaluation(model, valid_loader, device):\n",
        "    val_loss, val_accuracy = evaluate(model, valid_loader, device)\n",
        "    print(f\"Zero-Shot Evaluation - Loss: {val_loss:.4f}, Accuracy: {val_accuracy:.4f}\")\n",
        "\n"
      ],
      "metadata": {
        "colab": {
          "base_uri": "https://localhost:8080/"
        },
        "id": "CeJUWn9CItr0",
        "outputId": "ab713a12-94c7-4c93-a6e1-ed75e41ea5cc"
      },
      "execution_count": null,
      "outputs": [
        {
          "output_type": "stream",
          "name": "stderr",
          "text": [
            "<ipython-input-8-0bd34b37a9e8>:5: FutureWarning: load_metric is deprecated and will be removed in the next major version of datasets. Use 'evaluate.load' instead, from the new library 🤗 Evaluate: https://huggingface.co/docs/evaluate\n",
            "  metric = load_metric(\"accuracy\")\n",
            "/usr/local/lib/python3.10/dist-packages/datasets/load.py:759: FutureWarning: The repository for accuracy contains custom code which must be executed to correctly load the metric. You can inspect the repository content at https://raw.githubusercontent.com/huggingface/datasets/2.19.2/metrics/accuracy/accuracy.py\n",
            "You can avoid this message in future by passing the argument `trust_remote_code=True`.\n",
            "Passing `trust_remote_code=True` will be mandatory to load this metric from the next major release of `datasets`.\n",
            "  warnings.warn(\n"
          ]
        }
      ]
    },
    {
      "cell_type": "code",
      "source": [
        "# Zero-Shot 评估\n",
        "zero_shot_evaluation(model, test_loader, device)\n"
      ],
      "metadata": {
        "id": "KzP6xzWt0N-3",
        "colab": {
          "base_uri": "https://localhost:8080/"
        },
        "outputId": "669f2cff-8ef9-49d8-a829-e8d43be534c0"
      },
      "execution_count": null,
      "outputs": [
        {
          "output_type": "stream",
          "name": "stdout",
          "text": [
            "Zero-Shot Evaluation - Loss: 5.9616, Accuracy: 0.0103\n"
          ]
        }
      ]
    },
    {
      "cell_type": "code",
      "source": [
        "# 开始训练\n",
        "train_model(model, train_loader, test_loader, device)"
      ],
      "metadata": {
        "colab": {
          "base_uri": "https://localhost:8080/"
        },
        "id": "AgC_mRSvck_E",
        "outputId": "81378683-1707-4ee1-a7ae-b69eb94ff0f5"
      },
      "execution_count": null,
      "outputs": [
        {
          "output_type": "stream",
          "name": "stdout",
          "text": [
            "Epoch 1, Step 0, Loss: 6.064361095428467\n",
            "Epoch 1, Step 100, Loss: 4.793985366821289\n",
            "Epoch 1, Step 200, Loss: 2.729743242263794\n",
            "Epoch 1, Step 300, Loss: 1.4613012075424194\n",
            "Epoch 1, Step 400, Loss: 1.0998822450637817\n",
            "Epoch 1, Average Training Loss: 2.7573844200766673\n",
            "Epoch 1, Validation Loss: 0.8496, Validation Accuracy: 0.8433\n",
            "Epoch 2, Step 0, Loss: 0.6738908886909485\n",
            "Epoch 2, Step 100, Loss: 0.7207075357437134\n",
            "Epoch 2, Step 200, Loss: 0.82240891456604\n",
            "Epoch 2, Step 300, Loss: 0.4646555781364441\n",
            "Epoch 2, Step 400, Loss: 0.49566400051116943\n",
            "Epoch 2, Average Training Loss: 0.5950231282060334\n",
            "Epoch 2, Validation Loss: 0.4206, Validation Accuracy: 0.9189\n",
            "Epoch 3, Step 0, Loss: 0.3884165585041046\n"
          ]
        }
      ]
    }
  ]
}